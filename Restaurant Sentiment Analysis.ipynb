{
 "cells": [
  {
   "cell_type": "code",
   "execution_count": 1,
   "id": "cac47503",
   "metadata": {},
   "outputs": [],
   "source": [
    "import numpy as np\n",
    "import pandas as pd\n",
    "import matplotlib.pyplot as plt\n",
    "import seaborn as sns\n",
    "from bs4 import BeautifulSoup\n",
    "import re\n",
    "import nltk\n",
    "%matplotlib inline"
   ]
  },
  {
   "cell_type": "code",
   "execution_count": 2,
   "id": "5577d5d7",
   "metadata": {},
   "outputs": [],
   "source": [
    "pd.set_option('display.max_columns',50)"
   ]
  },
  {
   "cell_type": "code",
   "execution_count": 3,
   "id": "d6427695",
   "metadata": {},
   "outputs": [],
   "source": [
    "df = pd.read_csv(\"Restaurant_Review_Data.csv\")"
   ]
  },
  {
   "cell_type": "code",
   "execution_count": 4,
   "id": "1bcba305",
   "metadata": {},
   "outputs": [
    {
     "data": {
      "text/html": [
       "<div>\n",
       "<style scoped>\n",
       "    .dataframe tbody tr th:only-of-type {\n",
       "        vertical-align: middle;\n",
       "    }\n",
       "\n",
       "    .dataframe tbody tr th {\n",
       "        vertical-align: top;\n",
       "    }\n",
       "\n",
       "    .dataframe thead th {\n",
       "        text-align: right;\n",
       "    }\n",
       "</style>\n",
       "<table border=\"1\" class=\"dataframe\">\n",
       "  <thead>\n",
       "    <tr style=\"text-align: right;\">\n",
       "      <th></th>\n",
       "      <th>Unnamed: 0</th>\n",
       "      <th>Review</th>\n",
       "      <th>Ratings</th>\n",
       "    </tr>\n",
       "  </thead>\n",
       "  <tbody>\n",
       "    <tr>\n",
       "      <th>0</th>\n",
       "      <td>0</td>\n",
       "      <td>Incredibly stingy and disappointing sushi (pic...</td>\n",
       "      <td>1</td>\n",
       "    </tr>\n",
       "    <tr>\n",
       "      <th>1</th>\n",
       "      <td>1</td>\n",
       "      <td>Price is super high for the food and service.</td>\n",
       "      <td>1</td>\n",
       "    </tr>\n",
       "    <tr>\n",
       "      <th>2</th>\n",
       "      <td>2</td>\n",
       "      <td>I love this place but if you go there, you sho...</td>\n",
       "      <td>2</td>\n",
       "    </tr>\n",
       "    <tr>\n",
       "      <th>3</th>\n",
       "      <td>3</td>\n",
       "      <td>The atmosphere &amp; service were outstanding. I h...</td>\n",
       "      <td>5</td>\n",
       "    </tr>\n",
       "    <tr>\n",
       "      <th>4</th>\n",
       "      <td>4</td>\n",
       "      <td>Menu was smaller than. Lunch menu, food was am...</td>\n",
       "      <td>5</td>\n",
       "    </tr>\n",
       "  </tbody>\n",
       "</table>\n",
       "</div>"
      ],
      "text/plain": [
       "   Unnamed: 0                                             Review  Ratings\n",
       "0           0  Incredibly stingy and disappointing sushi (pic...        1\n",
       "1           1      Price is super high for the food and service.        1\n",
       "2           2  I love this place but if you go there, you sho...        2\n",
       "3           3  The atmosphere & service were outstanding. I h...        5\n",
       "4           4  Menu was smaller than. Lunch menu, food was am...        5"
      ]
     },
     "execution_count": 4,
     "metadata": {},
     "output_type": "execute_result"
    }
   ],
   "source": [
    "df.head()"
   ]
  },
  {
   "cell_type": "code",
   "execution_count": 5,
   "id": "a0208810",
   "metadata": {},
   "outputs": [],
   "source": [
    "df = df[['Review','Ratings']]"
   ]
  },
  {
   "cell_type": "code",
   "execution_count": 6,
   "id": "07ae9588",
   "metadata": {},
   "outputs": [
    {
     "data": {
      "text/plain": [
       "(81923, 2)"
      ]
     },
     "execution_count": 6,
     "metadata": {},
     "output_type": "execute_result"
    }
   ],
   "source": [
    "#shape of the dataset\n",
    "df.shape"
   ]
  },
  {
   "cell_type": "code",
   "execution_count": 7,
   "id": "8b3b6fad",
   "metadata": {},
   "outputs": [
    {
     "name": "stdout",
     "output_type": "stream",
     "text": [
      "<class 'pandas.core.frame.DataFrame'>\n",
      "RangeIndex: 81923 entries, 0 to 81922\n",
      "Data columns (total 2 columns):\n",
      " #   Column   Non-Null Count  Dtype \n",
      "---  ------   --------------  ----- \n",
      " 0   Review   81923 non-null  object\n",
      " 1   Ratings  81923 non-null  int64 \n",
      "dtypes: int64(1), object(1)\n",
      "memory usage: 1.3+ MB\n"
     ]
    }
   ],
   "source": [
    "#general information\n",
    "df.info()"
   ]
  },
  {
   "cell_type": "code",
   "execution_count": 8,
   "id": "541e49c8",
   "metadata": {},
   "outputs": [],
   "source": [
    "# Placing the ratings into 2 categories : Positive & Negative \n",
    "\n",
    "df['Ratings'] = df['Ratings'].replace(to_replace = {1,2},value = 'Negative')\n",
    "df['Ratings'] = df['Ratings'].replace(to_replace = {3,4,5},value = 'Positive')"
   ]
  },
  {
   "cell_type": "code",
   "execution_count": 9,
   "id": "d2657798",
   "metadata": {},
   "outputs": [
    {
     "data": {
      "text/plain": [
       "Negative    41695\n",
       "Positive    40228\n",
       "Name: Ratings, dtype: int64"
      ]
     },
     "execution_count": 9,
     "metadata": {},
     "output_type": "execute_result"
    }
   ],
   "source": [
    "#Checking if dataset is balanced/not balanced\n",
    "df['Ratings'].value_counts()"
   ]
  },
  {
   "cell_type": "code",
   "execution_count": 10,
   "id": "5163a3cb",
   "metadata": {},
   "outputs": [
    {
     "data": {
      "text/plain": [
       "Review     0\n",
       "Ratings    0\n",
       "dtype: int64"
      ]
     },
     "execution_count": 10,
     "metadata": {},
     "output_type": "execute_result"
    }
   ],
   "source": [
    "#Checking for the presence of null values\n",
    "df.isnull().sum()"
   ]
  },
  {
   "cell_type": "code",
   "execution_count": 11,
   "id": "234261b9",
   "metadata": {},
   "outputs": [
    {
     "data": {
      "text/html": [
       "<div>\n",
       "<style scoped>\n",
       "    .dataframe tbody tr th:only-of-type {\n",
       "        vertical-align: middle;\n",
       "    }\n",
       "\n",
       "    .dataframe tbody tr th {\n",
       "        vertical-align: top;\n",
       "    }\n",
       "\n",
       "    .dataframe thead th {\n",
       "        text-align: right;\n",
       "    }\n",
       "</style>\n",
       "<table border=\"1\" class=\"dataframe\">\n",
       "  <thead>\n",
       "    <tr style=\"text-align: right;\">\n",
       "      <th></th>\n",
       "      <th>Review</th>\n",
       "      <th>Ratings</th>\n",
       "    </tr>\n",
       "  </thead>\n",
       "  <tbody>\n",
       "    <tr>\n",
       "      <th>2338</th>\n",
       "      <td>Great food and extra friendly service.</td>\n",
       "      <td>Positive</td>\n",
       "    </tr>\n",
       "    <tr>\n",
       "      <th>4516</th>\n",
       "      <td>Great place</td>\n",
       "      <td>Positive</td>\n",
       "    </tr>\n",
       "    <tr>\n",
       "      <th>6293</th>\n",
       "      <td>Great food and service</td>\n",
       "      <td>Positive</td>\n",
       "    </tr>\n",
       "    <tr>\n",
       "      <th>10246</th>\n",
       "      <td>Anniversary</td>\n",
       "      <td>Positive</td>\n",
       "    </tr>\n",
       "    <tr>\n",
       "      <th>11282</th>\n",
       "      <td>Awesome as always!</td>\n",
       "      <td>Positive</td>\n",
       "    </tr>\n",
       "    <tr>\n",
       "      <th>...</th>\n",
       "      <td>...</td>\n",
       "      <td>...</td>\n",
       "    </tr>\n",
       "    <tr>\n",
       "      <th>79987</th>\n",
       "      <td>It was amazing</td>\n",
       "      <td>Positive</td>\n",
       "    </tr>\n",
       "    <tr>\n",
       "      <th>80033</th>\n",
       "      <td>Dave's Famous Reuben\\nVery poor quality with n...</td>\n",
       "      <td>Negative</td>\n",
       "    </tr>\n",
       "    <tr>\n",
       "      <th>80875</th>\n",
       "      <td>Great overall experience</td>\n",
       "      <td>Positive</td>\n",
       "    </tr>\n",
       "    <tr>\n",
       "      <th>80992</th>\n",
       "      <td>Great service</td>\n",
       "      <td>Positive</td>\n",
       "    </tr>\n",
       "    <tr>\n",
       "      <th>81205</th>\n",
       "      <td>Great food and drinks</td>\n",
       "      <td>Positive</td>\n",
       "    </tr>\n",
       "  </tbody>\n",
       "</table>\n",
       "<p>185 rows × 2 columns</p>\n",
       "</div>"
      ],
      "text/plain": [
       "                                                  Review   Ratings\n",
       "2338              Great food and extra friendly service.  Positive\n",
       "4516                                         Great place  Positive\n",
       "6293                              Great food and service  Positive\n",
       "10246                                        Anniversary  Positive\n",
       "11282                                 Awesome as always!  Positive\n",
       "...                                                  ...       ...\n",
       "79987                                     It was amazing  Positive\n",
       "80033  Dave's Famous Reuben\\nVery poor quality with n...  Negative\n",
       "80875                           Great overall experience  Positive\n",
       "80992                                      Great service  Positive\n",
       "81205                              Great food and drinks  Positive\n",
       "\n",
       "[185 rows x 2 columns]"
      ]
     },
     "execution_count": 11,
     "metadata": {},
     "output_type": "execute_result"
    }
   ],
   "source": [
    "#Checking for the presence of duplicate rows\n",
    "df[df.duplicated()]"
   ]
  },
  {
   "cell_type": "code",
   "execution_count": 12,
   "id": "bf9e217d",
   "metadata": {},
   "outputs": [
    {
     "data": {
      "text/plain": [
       "185"
      ]
     },
     "execution_count": 12,
     "metadata": {},
     "output_type": "execute_result"
    }
   ],
   "source": [
    "# There are a total of 418 rows which are duplicate and have to be removed.\n",
    "df.duplicated().sum()"
   ]
  },
  {
   "cell_type": "code",
   "execution_count": 13,
   "id": "a35f9744",
   "metadata": {},
   "outputs": [],
   "source": [
    "df = df.drop_duplicates()"
   ]
  },
  {
   "cell_type": "code",
   "execution_count": 14,
   "id": "0aed01ea",
   "metadata": {},
   "outputs": [],
   "source": [
    "df = df.reset_index(drop = True)"
   ]
  },
  {
   "cell_type": "code",
   "execution_count": 15,
   "id": "e6ca1968",
   "metadata": {},
   "outputs": [
    {
     "data": {
      "text/plain": [
       "(81738, 2)"
      ]
     },
     "execution_count": 15,
     "metadata": {},
     "output_type": "execute_result"
    }
   ],
   "source": [
    "df.shape"
   ]
  },
  {
   "cell_type": "code",
   "execution_count": 16,
   "id": "b6896ced",
   "metadata": {},
   "outputs": [],
   "source": [
    "# The reviews contain HTML tags and punctuation marks."
   ]
  },
  {
   "cell_type": "code",
   "execution_count": 17,
   "id": "65470c69",
   "metadata": {},
   "outputs": [
    {
     "name": "stderr",
     "output_type": "stream",
     "text": [
      "C:\\Users\\Anil\\AppData\\Roaming\\Python\\Python39\\site-packages\\bs4\\__init__.py:435: MarkupResemblesLocatorWarning: The input looks more like a filename than markup. You may want to open this file and pass the filehandle into Beautiful Soup.\n",
      "  warnings.warn(\n",
      "C:\\Users\\Anil\\AppData\\Roaming\\Python\\Python39\\site-packages\\bs4\\__init__.py:404: MarkupResemblesLocatorWarning: The input looks more like a URL than markup. You may want to use an HTTP client like requests to get the document behind the URL, and feed that document to Beautiful Soup.\n",
      "  warnings.warn(\n"
     ]
    }
   ],
   "source": [
    "#Removing the HTML tags\n",
    "for i in range(0,df.shape[0]):\n",
    "    soup = BeautifulSoup(df['Review'][i])\n",
    "    df['Review'][i] = soup.get_text()"
   ]
  },
  {
   "cell_type": "code",
   "execution_count": 18,
   "id": "e7b140e7",
   "metadata": {},
   "outputs": [],
   "source": [
    "#Removing the punctuation marks\n",
    "for i in range(0,df.shape[0]):\n",
    "    df['Review'][i] = re.sub(r'[^\\w\\s]',' ',df['Review'][i])"
   ]
  },
  {
   "cell_type": "code",
   "execution_count": 19,
   "id": "546412a2",
   "metadata": {},
   "outputs": [],
   "source": [
    "#Making the review into lowercase\n",
    "df['Review'] = df['Review'].apply(str.lower)"
   ]
  },
  {
   "cell_type": "code",
   "execution_count": 20,
   "id": "12366df1",
   "metadata": {},
   "outputs": [],
   "source": [
    "#When webscraping was done, reviews of all languages were taken. Hence, it is important to filter out the english reviews.\n",
    "from langdetect import detect "
   ]
  },
  {
   "cell_type": "code",
   "execution_count": 21,
   "id": "1ee81d9a",
   "metadata": {},
   "outputs": [],
   "source": [
    "def language_detection(s):\n",
    "    return detect(s)"
   ]
  },
  {
   "cell_type": "code",
   "execution_count": 22,
   "id": "ea7e40a8",
   "metadata": {},
   "outputs": [],
   "source": [
    "df['Language_of_Review'] = df['Review'].apply(language_detection)"
   ]
  },
  {
   "cell_type": "code",
   "execution_count": 23,
   "id": "33f7661d",
   "metadata": {},
   "outputs": [
    {
     "data": {
      "text/plain": [
       "en       80892\n",
       "es         223\n",
       "fr         100\n",
       "it          77\n",
       "af          68\n",
       "de          53\n",
       "ro          45\n",
       "ca          40\n",
       "so          27\n",
       "nl          25\n",
       "da          25\n",
       "pt          24\n",
       "no          24\n",
       "cy          21\n",
       "tl          13\n",
       "ko           9\n",
       "sw           8\n",
       "et           8\n",
       "hr           7\n",
       "tr           7\n",
       "sv           6\n",
       "sl           6\n",
       "vi           4\n",
       "fi           4\n",
       "hu           4\n",
       "zh-cn        4\n",
       "id           3\n",
       "sk           3\n",
       "sq           2\n",
       "pl           2\n",
       "ja           2\n",
       "cs           1\n",
       "lt           1\n",
       "Name: Language_of_Review, dtype: int64"
      ]
     },
     "execution_count": 23,
     "metadata": {},
     "output_type": "execute_result"
    }
   ],
   "source": [
    "df['Language_of_Review'].value_counts()"
   ]
  },
  {
   "cell_type": "code",
   "execution_count": 24,
   "id": "d5b90aa5",
   "metadata": {},
   "outputs": [],
   "source": [
    "df = df[df['Language_of_Review'] == \"en\"]"
   ]
  },
  {
   "cell_type": "code",
   "execution_count": 25,
   "id": "6727dc3e",
   "metadata": {},
   "outputs": [
    {
     "data": {
      "text/plain": [
       "(80892, 3)"
      ]
     },
     "execution_count": 25,
     "metadata": {},
     "output_type": "execute_result"
    }
   ],
   "source": [
    "df.shape"
   ]
  },
  {
   "cell_type": "code",
   "execution_count": 26,
   "id": "135fd047",
   "metadata": {},
   "outputs": [
    {
     "data": {
      "text/plain": [
       "Negative    41492\n",
       "Positive    39400\n",
       "Name: Ratings, dtype: int64"
      ]
     },
     "execution_count": 26,
     "metadata": {},
     "output_type": "execute_result"
    }
   ],
   "source": [
    "# The dataset is still almost balanced after filtering of the reviews.\n",
    "df['Ratings'].value_counts()"
   ]
  },
  {
   "cell_type": "code",
   "execution_count": 27,
   "id": "71429141",
   "metadata": {},
   "outputs": [],
   "source": [
    "from nltk.corpus import stopwords\n",
    "sw = stopwords.words('english')"
   ]
  },
  {
   "cell_type": "code",
   "execution_count": 28,
   "id": "a54a40ef",
   "metadata": {},
   "outputs": [],
   "source": [
    "def removal_of_stop_words(s):\n",
    "    l = []\n",
    "    tokens = nltk.word_tokenize(s)\n",
    "    for i in tokens: \n",
    "        if i not in sw:\n",
    "            l.append(i)\n",
    "    return ' '.join(l)"
   ]
  },
  {
   "cell_type": "code",
   "execution_count": 29,
   "id": "dbd2b95b",
   "metadata": {},
   "outputs": [],
   "source": [
    "#Removing the stop words from the sentence    \n",
    "df['Review'] = df['Review'].apply(removal_of_stop_words)"
   ]
  },
  {
   "cell_type": "code",
   "execution_count": 30,
   "id": "f3b84a2b",
   "metadata": {},
   "outputs": [],
   "source": [
    "#Lemmatization\n",
    "from nltk.stem import WordNetLemmatizer\n",
    "wl = WordNetLemmatizer()"
   ]
  },
  {
   "cell_type": "code",
   "execution_count": 31,
   "id": "043379b7",
   "metadata": {},
   "outputs": [],
   "source": [
    "def lemmatization(s):\n",
    "    l = []\n",
    "    tokens = nltk.word_tokenize(s)\n",
    "    for i in tokens: \n",
    "        l.append(wl.lemmatize(i))\n",
    "    return ' '.join(l)"
   ]
  },
  {
   "cell_type": "code",
   "execution_count": 32,
   "id": "52174ada",
   "metadata": {},
   "outputs": [],
   "source": [
    "df['Review'] = df['Review'].apply(lemmatization)"
   ]
  },
  {
   "cell_type": "code",
   "execution_count": 33,
   "id": "91d595b6",
   "metadata": {},
   "outputs": [],
   "source": [
    "from sklearn.model_selection import train_test_split\n",
    "X_train,X_test,y_train,y_test = train_test_split(df['Review'],df['Ratings'],test_size = 0.2, random_state = 60,stratify = df['Ratings'])"
   ]
  },
  {
   "cell_type": "code",
   "execution_count": 34,
   "id": "44d4805a",
   "metadata": {},
   "outputs": [],
   "source": [
    "from sklearn.preprocessing import LabelBinarizer\n",
    "lb = LabelBinarizer()\n",
    "y_train = lb.fit_transform(y_train)\n",
    "y_test = lb.fit_transform(y_test)"
   ]
  },
  {
   "cell_type": "code",
   "execution_count": 35,
   "id": "5c630dcc",
   "metadata": {},
   "outputs": [],
   "source": [
    "from sklearn.feature_extraction.text import CountVectorizer"
   ]
  },
  {
   "cell_type": "code",
   "execution_count": 36,
   "id": "0884cc40",
   "metadata": {},
   "outputs": [],
   "source": [
    "vec = CountVectorizer()\n",
    "vec.fit(X_train)\n",
    "X_train = vec.transform(X_train)\n",
    "X_test = vec.transform(X_test)"
   ]
  },
  {
   "cell_type": "code",
   "execution_count": 37,
   "id": "0601acfb",
   "metadata": {},
   "outputs": [
    {
     "name": "stdout",
     "output_type": "stream",
     "text": [
      "(64713, 40868)\n"
     ]
    }
   ],
   "source": [
    "print(X_train.shape)"
   ]
  },
  {
   "cell_type": "code",
   "execution_count": 38,
   "id": "10b9bdfe",
   "metadata": {},
   "outputs": [
    {
     "name": "stdout",
     "output_type": "stream",
     "text": [
      "(16179, 40868)\n"
     ]
    }
   ],
   "source": [
    "print(X_test.shape)"
   ]
  },
  {
   "cell_type": "code",
   "execution_count": 39,
   "id": "4fa82951",
   "metadata": {},
   "outputs": [],
   "source": [
    "from sklearn.naive_bayes import MultinomialNB\n",
    "from sklearn.linear_model import LogisticRegression\n",
    "from sklearn.ensemble import RandomForestClassifier,AdaBoostClassifier,GradientBoostingClassifier\n",
    "from sklearn.model_selection import GridSearchCV\n",
    "from sklearn.metrics import accuracy_score"
   ]
  },
  {
   "cell_type": "code",
   "execution_count": 40,
   "id": "4599c114",
   "metadata": {},
   "outputs": [],
   "source": [
    "model = MultinomialNB()\n",
    "parameters = {\"alpha\":[10**-2,10**-1,10**0,10**1,10**2]}\n",
    "grid_search = GridSearchCV(model,param_grid = parameters,scoring = \"accuracy\",cv = 5, n_jobs = 2, return_train_score = True)"
   ]
  },
  {
   "cell_type": "code",
   "execution_count": 41,
   "id": "c5dd2df5",
   "metadata": {},
   "outputs": [
    {
     "name": "stderr",
     "output_type": "stream",
     "text": [
      "c:\\anil\\hrithik\\programming\\python\\lib\\site-packages\\sklearn\\utils\\validation.py:72: DataConversionWarning: A column-vector y was passed when a 1d array was expected. Please change the shape of y to (n_samples, ), for example using ravel().\n",
      "  return f(**kwargs)\n"
     ]
    },
    {
     "data": {
      "text/plain": [
       "GridSearchCV(cv=5, estimator=MultinomialNB(), n_jobs=2,\n",
       "             param_grid={'alpha': [0.01, 0.1, 1, 10, 100]},\n",
       "             return_train_score=True, scoring='accuracy')"
      ]
     },
     "execution_count": 41,
     "metadata": {},
     "output_type": "execute_result"
    }
   ],
   "source": [
    "grid_search.fit(X_train,y_train)"
   ]
  },
  {
   "cell_type": "code",
   "execution_count": 42,
   "id": "fcae9b17",
   "metadata": {},
   "outputs": [
    {
     "name": "stdout",
     "output_type": "stream",
     "text": [
      "0.8684344643781425\n",
      "MultinomialNB(alpha=1)\n"
     ]
    }
   ],
   "source": [
    "print(grid_search.best_score_)\n",
    "print(grid_search.best_estimator_)"
   ]
  },
  {
   "cell_type": "code",
   "execution_count": 43,
   "id": "89222daf",
   "metadata": {},
   "outputs": [],
   "source": [
    "model2 = RandomForestClassifier()"
   ]
  },
  {
   "cell_type": "code",
   "execution_count": 44,
   "id": "955a9218",
   "metadata": {},
   "outputs": [
    {
     "name": "stderr",
     "output_type": "stream",
     "text": [
      "c:\\anil\\hrithik\\programming\\python\\lib\\site-packages\\sklearn\\model_selection\\_search.py:765: DataConversionWarning: A column-vector y was passed when a 1d array was expected. Please change the shape of y to (n_samples,), for example using ravel().\n",
      "  self.best_estimator_.fit(X, y, **fit_params)\n"
     ]
    },
    {
     "data": {
      "text/plain": [
       "GridSearchCV(cv=10, estimator=RandomForestClassifier(), n_jobs=-1,\n",
       "             param_grid={'max_depth': [1, 2, 3, 4, 5, 6],\n",
       "                         'n_estimators': [100, 150, 200]})"
      ]
     },
     "execution_count": 44,
     "metadata": {},
     "output_type": "execute_result"
    }
   ],
   "source": [
    "parameters = {\"n_estimators\":[100,150,200],\"max_depth\":[1,2,3,4,5,6]}\n",
    "grid_tree = GridSearchCV(model2,param_grid = parameters,cv = 10, n_jobs = -1)\n",
    "grid_tree.fit(X_train,y_train)"
   ]
  },
  {
   "cell_type": "code",
   "execution_count": 45,
   "id": "3bc40373",
   "metadata": {},
   "outputs": [
    {
     "name": "stdout",
     "output_type": "stream",
     "text": [
      "{'max_depth': 5, 'n_estimators': 200}\n",
      "0.8109809353855816\n"
     ]
    }
   ],
   "source": [
    "print(grid_tree.best_params_)\n",
    "print(grid_tree.best_score_)"
   ]
  },
  {
   "cell_type": "code",
   "execution_count": 46,
   "id": "f59867e5",
   "metadata": {},
   "outputs": [],
   "source": [
    "model3 = AdaBoostClassifier()"
   ]
  },
  {
   "cell_type": "code",
   "execution_count": 47,
   "id": "19b02eb4",
   "metadata": {},
   "outputs": [
    {
     "name": "stderr",
     "output_type": "stream",
     "text": [
      "c:\\anil\\hrithik\\programming\\python\\lib\\site-packages\\sklearn\\utils\\validation.py:72: DataConversionWarning: A column-vector y was passed when a 1d array was expected. Please change the shape of y to (n_samples, ), for example using ravel().\n",
      "  return f(**kwargs)\n"
     ]
    },
    {
     "name": "stdout",
     "output_type": "stream",
     "text": [
      "0.8235366833549663\n"
     ]
    }
   ],
   "source": [
    "model3.fit(X_train,y_train)\n",
    "pred = model3.predict(X_test)\n",
    "print(accuracy_score(pred,y_test))"
   ]
  },
  {
   "cell_type": "markdown",
   "id": "a42a7271",
   "metadata": {},
   "source": [
    "parameters = {\"n_estimators\":[100,150,200],\"learning_rate\":[0.6,0.8,1.0],\"algorithm\":['SAMME', 'SAMME.R']}\n",
    "grid_ada = GridSearchCV(model3,param_grid = parameters,cv = 10, n_jobs = -1)\n",
    "grid_ada.fit(X_train,y_train)"
   ]
  },
  {
   "cell_type": "markdown",
   "id": "f0fe2389",
   "metadata": {},
   "source": [
    "print(grid_ada.best_params_)\n",
    "print(grid_ada.best_score_)"
   ]
  },
  {
   "cell_type": "code",
   "execution_count": 48,
   "id": "97c71c49",
   "metadata": {},
   "outputs": [],
   "source": [
    "model4 = GradientBoostingClassifier()"
   ]
  },
  {
   "cell_type": "code",
   "execution_count": 49,
   "id": "80aac34b",
   "metadata": {},
   "outputs": [
    {
     "name": "stderr",
     "output_type": "stream",
     "text": [
      "c:\\anil\\hrithik\\programming\\python\\lib\\site-packages\\sklearn\\utils\\validation.py:72: DataConversionWarning: A column-vector y was passed when a 1d array was expected. Please change the shape of y to (n_samples, ), for example using ravel().\n",
      "  return f(**kwargs)\n"
     ]
    },
    {
     "name": "stdout",
     "output_type": "stream",
     "text": [
      "0.8396687063477347\n"
     ]
    }
   ],
   "source": [
    "model4.fit(X_train,y_train)\n",
    "pred = model4.predict(X_test)\n",
    "print(accuracy_score(pred,y_test))"
   ]
  },
  {
   "cell_type": "markdown",
   "id": "f720454c",
   "metadata": {},
   "source": [
    "parameters = {\"n_estimators\":[100,150,200],\"learning_rate\":[0.1,0.2,0.3],\"criterion\":['friedman_mse', 'squared_error']}\n",
    "grid_gradient = GridSearchCV(model4,param_grid = parameters,cv = 10, n_jobs = -1)\n",
    "grid_gradient.fit(X_train,y_train)"
   ]
  },
  {
   "cell_type": "markdown",
   "id": "af3b578e",
   "metadata": {},
   "source": [
    "print(grid_gradient.best_params_)\n",
    "print(grid_gradient.best_score_)"
   ]
  },
  {
   "cell_type": "code",
   "execution_count": 51,
   "id": "fc91e22f",
   "metadata": {},
   "outputs": [],
   "source": [
    "final_pred = grid_search.predict(X_test)"
   ]
  },
  {
   "cell_type": "code",
   "execution_count": 55,
   "id": "ec71c20b",
   "metadata": {},
   "outputs": [],
   "source": [
    "from sklearn.metrics import classification_report,confusion_matrix"
   ]
  },
  {
   "cell_type": "code",
   "execution_count": 56,
   "id": "bf402791",
   "metadata": {},
   "outputs": [
    {
     "name": "stdout",
     "output_type": "stream",
     "text": [
      "              precision    recall  f1-score   support\n",
      "\n",
      "           0       0.88      0.86      0.87      8299\n",
      "           1       0.86      0.88      0.87      7880\n",
      "\n",
      "    accuracy                           0.87     16179\n",
      "   macro avg       0.87      0.87      0.87     16179\n",
      "weighted avg       0.87      0.87      0.87     16179\n",
      "\n"
     ]
    }
   ],
   "source": [
    "print(classification_report(y_test,final_pred))"
   ]
  },
  {
   "cell_type": "code",
   "execution_count": 63,
   "id": "923b177d",
   "metadata": {},
   "outputs": [
    {
     "name": "stdout",
     "output_type": "stream",
     "text": [
      "0.8676679646455282\n"
     ]
    },
    {
     "name": "stderr",
     "output_type": "stream",
     "text": [
      "c:\\anil\\hrithik\\programming\\python\\lib\\site-packages\\sklearn\\utils\\validation.py:72: DataConversionWarning: A column-vector y was passed when a 1d array was expected. Please change the shape of y to (n_samples, ), for example using ravel().\n",
      "  return f(**kwargs)\n"
     ]
    }
   ],
   "source": [
    "model.fit(X_train,y_train)\n",
    "p = model.predict(X_test)\n",
    "print(accuracy_score(y_test,p))"
   ]
  },
  {
   "cell_type": "code",
   "execution_count": 64,
   "id": "02e41dcb",
   "metadata": {},
   "outputs": [
    {
     "data": {
      "text/plain": [
       "['model.joblib']"
      ]
     },
     "execution_count": 64,
     "metadata": {},
     "output_type": "execute_result"
    }
   ],
   "source": [
    "from joblib import dump\n",
    "dump(vec,'count_vectorizer.joblib')\n",
    "dump(model,'model.joblib')"
   ]
  },
  {
   "cell_type": "code",
   "execution_count": null,
   "id": "72087a36",
   "metadata": {},
   "outputs": [],
   "source": []
  }
 ],
 "metadata": {
  "kernelspec": {
   "display_name": "Python 3",
   "language": "python",
   "name": "python3"
  },
  "language_info": {
   "codemirror_mode": {
    "name": "ipython",
    "version": 3
   },
   "file_extension": ".py",
   "mimetype": "text/x-python",
   "name": "python",
   "nbconvert_exporter": "python",
   "pygments_lexer": "ipython3",
   "version": "3.9.0"
  }
 },
 "nbformat": 4,
 "nbformat_minor": 5
}
